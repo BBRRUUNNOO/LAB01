{
 "cells": [
  {
   "cell_type": "code",
   "execution_count": 8,
   "metadata": {},
   "outputs": [],
   "source": [
    "valor_int= int(input(\"digite um número\"))"
   ]
  },
  {
   "cell_type": "code",
   "execution_count": null,
   "metadata": {},
   "outputs": [
    {
     "name": "stdout",
     "output_type": "stream",
     "text": [
      "5\n"
     ]
    }
   ],
   "source": [
    "print(valor_int)"
   ]
  },
  {
   "cell_type": "code",
   "execution_count": null,
   "metadata": {},
   "outputs": [],
   "source": [
    "#faça um programa que peça 3 notas e mostre a média\n",
    "\n",
    "nota1= float(input(\"digite a primeira nota:\"))\n",
    "nota2= float(input(\"digite a segunda nota:\"))\n",
    "nota3= float(input(\"digite a terceira nota:\"))"
   ]
  },
  {
   "cell_type": "code",
   "execution_count": null,
   "metadata": {},
   "outputs": [],
   "source": [
    "media = (nota1+nota2+nota3)/3"
   ]
  },
  {
   "cell_type": "code",
   "execution_count": null,
   "metadata": {},
   "outputs": [
    {
     "name": "stdout",
     "output_type": "stream",
     "text": [
      "5.0\n"
     ]
    }
   ],
   "source": [
    "print(media)"
   ]
  },
  {
   "cell_type": "code",
   "execution_count": null,
   "metadata": {},
   "outputs": [],
   "source": [
    "#faça um programa que pergunte quanto você ganha por hora e o número de horas trabalhadas no mês. calcule e mostre o total do seu salário no referido mês\n",
    "\n",
    "#perguntar quanto ganho por hora\n",
    "#horas trabalhadas\n",
    "#mostrar salário\n",
    "\n",
    "valorDaHora = float(input(\"digite valor da hora:\"))\n",
    "horasTrabalhadas = float(input(\"digite quantidade de horas trabalhadas:\"))"
   ]
  },
  {
   "cell_type": "code",
   "execution_count": null,
   "metadata": {},
   "outputs": [],
   "source": [
    "salarioMes = (valorDaHora*horasTrabalhadas)"
   ]
  },
  {
   "cell_type": "code",
   "execution_count": null,
   "metadata": {},
   "outputs": [
    {
     "name": "stdout",
     "output_type": "stream",
     "text": [
      "500.0\n"
     ]
    }
   ],
   "source": [
    "print(salarioMes)"
   ]
  },
  {
   "cell_type": "code",
   "execution_count": null,
   "metadata": {},
   "outputs": [],
   "source": [
    "#acima de 50, multa de 4.0 por kg\n",
    "\n",
    "#ler o peso dos peixes\n",
    "pesoPeixes= float(input(\"quantos kg de peixe você pescou?\"))\n",
    "if (pesoPeixes > 50):\n",
    "    excesso = pesoPeixes - 50\n",
    "    print(\"o excesso de peso é:\", excesso)\n",
    "    multa = excesso*4\n",
    "    print(\"o valor da multa a pagar é:\"multa)\n",
    "else:\n",
    "    print(\"nenhuma multa a pagar.\")\n",
    "pesoPeixes = float(input(\"quanto kg de peixe você pescou?\"))\n",
    "if(pesoPeixes <=50):\n",
    "    print(\"nenhuma multa a pagar.\")\n",
    "else:\n",
    "    excesso = pesoPeixes - 50\n",
    "    print(\"o excesso de peso é:\",excesso)\n",
    "    multa = excesso*4\n",
    "    print(\"o valor da multa a pagar é:\", multa)\n",
    "\n",
    "    \n",
    "\n",
    "    \n",
    "\n",
    "\n",
    "\n"
   ]
  }
 ],
 "metadata": {
  "kernelspec": {
   "display_name": "Python 3",
   "language": "python",
   "name": "python3"
  },
  "language_info": {
   "codemirror_mode": {
    "name": "ipython",
    "version": 3
   },
   "file_extension": ".py",
   "mimetype": "text/x-python",
   "name": "python",
   "nbconvert_exporter": "python",
   "pygments_lexer": "ipython3",
   "version": "3.12.2"
  }
 },
 "nbformat": 4,
 "nbformat_minor": 2
}
