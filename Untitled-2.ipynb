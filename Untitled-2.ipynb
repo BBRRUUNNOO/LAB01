{
 "cells": [
  {
   "cell_type": "code",
   "execution_count": null,
   "metadata": {},
   "outputs": [],
   "source": [
    "anoDoVeiculo = float(input('Digite oo ano de fabricação do veículo:'))\n",
    "valorDoVeiculo = float(input('digite o valor do veículo: '))\n",
    "\n",
    "if(anoDoVeiculo < 1990):\n",
    "    imposto = 1/100 * valorDoVeiculo\n",
    "    print('O valor do imposto do veículo é:', imposto)\n",
    "else:\n",
    "    imposto = 1.5/100 * 100\n",
    "    print ('O valor do imposto do veículo é:', imposto)\n",
    "O valor do imposto do veículo é: 1.5"
   ]
  },
  {
   "cell_type": "code",
   "execution_count": null,
   "metadata": {},
   "outputs": [],
   "source": [
    "salario = float(input('Digite o salário:'))\n",
    "codigo = int(input('Digite o código do Funcionário:'))\n",
    "\n",
    "if(codigo == 101):\n",
    "    print (\"O valor do antigo salario é :\", salario,'\\nO novo salário é:', (10/100* salario) + salario,'\\n A diferença é:', (10/100* salario)  )\n",
    "elif(codigo == 102):\n",
    "    print (\"O valor do antigo salario é :\", salario, '\\nO novo salário é:', (20/100* salario) + salario, '\\nA diferença é:', (20/100* salario)  )\n",
    "elif(codigo == 103):\n",
    "    print (\"O valor do antigo salario é :\", salario,'\\nO novo salário é:', (30/100* salario) + salario, '\\nA diferença é:', (30/100* salario)  )\n",
    "else:\n",
    "    print (\"O valor do antigo salario é :\", salario, '\\nO novo salário é:', (40/100* salario) + salario, '\\nA diferença é:', (40/100* salario)  )\n",
    "O valor do antigo salario é : 12000.0 \n",
    "O novo salário é: 15600.0 \n",
    "A diferença é: 3600.0"
   ]
  }
 ],
 "metadata": {
  "language_info": {
   "name": "python"
  }
 },
 "nbformat": 4,
 "nbformat_minor": 2
}
