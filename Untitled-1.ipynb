{
 "cells": [
  {
   "cell_type": "code",
   "execution_count": null,
   "metadata": {},
   "outputs": [],
   "source": [
    "#quando não sabemos a quantidade de parâmetros basta usar\n",
    "def variosParametros(*parametros):\n",
    "    for n, item in enumerate(parametros):\n",
    "        print(\"Parâmetro\", n, item)\n",
    "    return"
   ]
  },
  {
   "cell_type": "code",
   "execution_count": null,
   "metadata": {},
   "outputs": [],
   "source": [
    "def soma(n1, n2):\n",
    "    return n1+n2\n",
    "def subtrai(n1, n2):\n",
    "    return n1-n2\n",
    "def multiplica(n1, n2):\n",
    "    return n1*n2\n",
    "def divide(n1, n2):\n",
    "    return n1/n2\n"
   ]
  },
  {
   "cell_type": "code",
   "execution_count": null,
   "metadata": {},
   "outputs": [],
   "source": [
    "while True:\n",
    "    print(\"+========================+\")\n",
    "    print(\"| menu de operações\")\n",
    "    print(\"| 1 - somar\")\n",
    "    print(\"| 2 - subtrair\")\n",
    "    print(\"| 3 - multiplicar\")\n",
    "    print(\"| 4 - dividir\")\n",
    "    print(\"| 0 - sair\")\n",
    "    print(\"+========================+\")\n",
    "\n",
    "    op = int(input())\n",
    "    if op==0\n",
    "       break\n",
    "\n",
    "    n1 = int(input(\"primeiro número:\"))\n",
    "    n2 = int(input(\"segundo número\"))\n",
    "\n",
    "    if op==1:\n",
    "        print(\"o resultado da soma é: \", soma(n1, n2))\n",
    "    elif op==2:\n",
    "        print(\"o resultado da subtração é:\", subtrai(n1, n2))\n",
    "    elif op==3:\n",
    "        print(\"o resultado da multiplicação é:\", multiplica(n1, n2))\n",
    "    elif op==4:\n",
    "        print(\"o resultado da divisão é: \", divide(n1, n2))"
   ]
  }
 ],
 "metadata": {
  "language_info": {
   "name": "python"
  }
 },
 "nbformat": 4,
 "nbformat_minor": 2
}
