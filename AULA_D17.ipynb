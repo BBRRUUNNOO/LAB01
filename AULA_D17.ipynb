{
 "cells": [
  {
   "cell_type": "code",
   "execution_count": 2,
   "metadata": {},
   "outputs": [
    {
     "name": "stdout",
     "output_type": "stream",
     "text": [
      "a mamãe patinho foi procurar\n",
      " além das montanhas na beira do mar\n",
      " a mamãe gritou: qua, qua, qua, qua\n",
      " e os n patinhos voltaramde lá\n"
     ]
    }
   ],
   "source": [
    "for patinhos in range(0, 1, -1):\n",
    "    print(f\"{patinhos} patinhos foram passear\\n além das montanhas para brincar\\n a mamãe gritou: qua, qua, qua, qua\\n mas só {patinhos -1} patinhos voltaram de lá.\\n\")\n",
    "print(\"a mamãe patinho foi procurar\\n além das montanhas na beira do mar\\n a mamãe gritou: qua, qua, qua, qua\\n e os n patinhos voltaramde lá\")"
   ]
  },
  {
   "cell_type": "code",
   "execution_count": null,
   "metadata": {},
   "outputs": [],
   "source": [
    "numero= int(input())"
   ]
  }
 ],
 "metadata": {
  "kernelspec": {
   "display_name": "Python 3",
   "language": "python",
   "name": "python3"
  },
  "language_info": {
   "codemirror_mode": {
    "name": "ipython",
    "version": 3
   },
   "file_extension": ".py",
   "mimetype": "text/x-python",
   "name": "python",
   "nbconvert_exporter": "python",
   "pygments_lexer": "ipython3",
   "version": "3.10.11"
  }
 },
 "nbformat": 4,
 "nbformat_minor": 2
}
